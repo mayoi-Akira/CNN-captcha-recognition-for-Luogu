{
 "cells": [
  {
   "cell_type": "markdown",
   "id": "ae3de895",
   "metadata": {},
   "source": [
    "# 读取模型"
   ]
  },
  {
   "cell_type": "code",
   "execution_count": 1,
   "id": "bed9e487",
   "metadata": {},
   "outputs": [],
   "source": [
    "import torch\n",
    "import matplotlib.pyplot as plt\n",
    "\n",
    "from model_load import load, transform, idx2char, device\n",
    "model = load()"
   ]
  },
  {
   "cell_type": "markdown",
   "id": "58d6bce8",
   "metadata": {},
   "source": [
    "# 洛谷拿图预测"
   ]
  },
  {
   "cell_type": "code",
   "execution_count": 6,
   "id": "e897636f",
   "metadata": {},
   "outputs": [
    {
     "data": {
      "image/png": "[encoded data removed]",
      "text/plain": [
       "<Figure size 400x200 with 1 Axes>"
      ]
     },
     "metadata": {},
     "output_type": "display_data"
    }
   ],
   "source": [
    "import requests\n",
    "from io import BytesIO\n",
    "from PIL import Image\n",
    "\n",
    "page_url = 'https://www.luogu.com.cn/lg4/captcha'\n",
    "headers = {\n",
    "    'User-Agent': 'Mozilla/5.0 (Windows NT 10.0; Win64; x64)',\n",
    "    'Referer': 'https://www.luogu.com.cn/'\n",
    "}\n",
    "response = requests.get(page_url, headers=headers, timeout=10)\n",
    "response.raise_for_status()\n",
    "\n",
    "img_pil = Image.open(BytesIO(response.content)).convert('RGB')\n",
    "\n",
    "img_t = transform(img_pil).unsqueeze(0).to(device)\n",
    "\n",
    "with torch.no_grad():\n",
    "    outs = model(img_t)\n",
    "\n",
    "pred_idxs = [torch.argmax(o, dim=1).item() for o in outs]\n",
    "pred_str = ''.join(idx2char[i] for i in pred_idxs)\n",
    "\n",
    "plt.figure(figsize=(4,2))\n",
    "plt.imshow(img_pil)\n",
    "plt.title(pred_str)\n",
    "plt.axis('off')\n",
    "plt.show()\n"
   ]
  }
 ],
 "metadata": {
  "kernelspec": {
   "display_name": "aaa",
   "language": "python",
   "name": "python3"
  },
  "language_info": {
   "codemirror_mode": {
    "name": "ipython",
    "version": 3
   },
   "file_extension": ".py",
   "mimetype": "text/x-python",
   "name": "python",
   "nbconvert_exporter": "python",
   "pygments_lexer": "ipython3",
   "version": "3.9.21"
  }
 },
 "nbformat": 4,
 "nbformat_minor": 5
}
