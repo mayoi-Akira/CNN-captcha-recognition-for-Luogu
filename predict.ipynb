{
 "cells": [
  {
   "cell_type": "markdown",
   "id": "ae3de895",
   "metadata": {},
   "source": [
    "# 读取模型"
   ]
  },
  {
   "cell_type": "code",
   "execution_count": 1,
   "id": "bed9e487",
   "metadata": {},
   "outputs": [
    {
     "name": "stderr",
     "output_type": "stream",
     "text": [
      "f:\\anaconda\\envs\\aaa\\lib\\site-packages\\torchvision\\models\\_utils.py:208: UserWarning: The parameter 'pretrained' is deprecated since 0.13 and may be removed in the future, please use 'weights' instead.\n",
      "  warnings.warn(\n",
      "f:\\anaconda\\envs\\aaa\\lib\\site-packages\\torchvision\\models\\_utils.py:223: UserWarning: Arguments other than a weight enum or `None` for 'weights' are deprecated since 0.13 and may be removed in the future. The current behavior is equivalent to passing `weights=ResNet18_Weights.IMAGENET1K_V1`. You can also use `weights=ResNet18_Weights.DEFAULT` to get the most up-to-date weights.\n",
      "  warnings.warn(msg)\n"
     ]
    }
   ],
   "source": [
    "import torch\n",
    "import matplotlib.pyplot as plt\n",
    "\n",
    "from model_load import load, idx2char, device, transform\n",
    "model = load()"
   ]
  },
  {
   "cell_type": "markdown",
   "id": "58d6bce8",
   "metadata": {},
   "source": [
    "# 洛谷拿图预测"
   ]
  },
  {
   "cell_type": "code",
   "execution_count": 3,
   "id": "e897636f",
   "metadata": {},
   "outputs": [
    {
     "data": {
      "image/png": "[encoded data removed]",
      "text/plain": [
       "<Figure size 400x200 with 1 Axes>"
      ]
     },
     "metadata": {},
     "output_type": "display_data"
    }
   ],
   "source": [
    "import requests\n",
    "from io import BytesIO\n",
    "from PIL import Image\n",
    "\n",
    "page_url = 'https://www.luogu.com.cn/lg4/captcha'\n",
    "headers = {\n",
    "    'User-Agent': 'Mozilla/5.0 (Windows NT 10.0; Win64; x64)',\n",
    "    'Referer': 'https://www.luogu.com.cn/'\n",
    "}\n",
    "response = requests.get(page_url, headers=headers, timeout=10)\n",
    "response.raise_for_status()\n",
    "\n",
    "img_pil = Image.open(BytesIO(response.content)).convert('RGB')\n",
    "\n",
    "img_t = transform(img_pil).unsqueeze(0).to(device)\n",
    "\n",
    "with torch.no_grad():\n",
    "    outs = model(img_t)\n",
    "\n",
    "pred_idxs = [torch.argmax(o, dim=1).item() for o in outs]\n",
    "pred_str = ''.join(idx2char[i] for i in pred_idxs)\n",
    "\n",
    "plt.figure(figsize=(4,2))\n",
    "plt.imshow(img_pil)\n",
    "plt.title(pred_str)\n",
    "plt.axis('off')\n",
    "plt.show()"
   ]
  }
 ],
 "metadata": {
  "kernelspec": {
   "display_name": "aaa",
   "language": "python",
   "name": "python3"
  },
  "language_info": {
   "codemirror_mode": {
    "name": "ipython",
    "version": 3
   },
   "file_extension": ".py",
   "mimetype": "text/x-python",
   "name": "python",
   "nbconvert_exporter": "python",
   "pygments_lexer": "ipython3",
   "version": "3.9.21"
  }
 },
 "nbformat": 4,
 "nbformat_minor": 5
}
